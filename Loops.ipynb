{
 "cells": [
  {
   "cell_type": "markdown",
   "metadata": {},
   "source": [
    "# Loops"
   ]
  },
  {
   "cell_type": "markdown",
   "metadata": {},
   "source": [
    "#### only_adults\n",
    "Write a function \"only_adults\" that\n",
    "takes as input a list of numbers and \n",
    "returns only those numbers >= 18"
   ]
  },
  {
   "cell_type": "markdown",
   "metadata": {},
   "source": [
    "----"
   ]
  },
  {
   "cell_type": "markdown",
   "metadata": {},
   "source": [
    "#### get_only_adults\n",
    "Write a function \"get_only_adults\" that\n",
    "takes as input a list of numbers and \n",
    "returns only those numbers >= 18\n",
    "and removes any None values from the list"
   ]
  },
  {
   "cell_type": "markdown",
   "metadata": {},
   "source": [
    "----"
   ]
  },
  {
   "cell_type": "markdown",
   "metadata": {},
   "source": [
    "#### are_all_adults\n",
    "Write a function \"are_all_adults\" that\n",
    "takes as input a list of numbers\n",
    "and returns True if they are all >= 18,\n",
    "and returns False otherwise\n",
    "Is this a map, filter, or reduce?"
   ]
  },
  {
   "cell_type": "markdown",
   "metadata": {},
   "source": [
    "----"
   ]
  },
  {
   "cell_type": "markdown",
   "metadata": {},
   "source": [
    "#### count_nones\n",
    "\n",
    "Write a function \"count_nones\" that\n",
    "takes as input a list of any type of element\n",
    "and returns a count of how many of those\n",
    "elements are None types.\n",
    "\n",
    "Is this a map, filter, or reduce?"
   ]
  },
  {
   "cell_type": "markdown",
   "metadata": {},
   "source": [
    "----"
   ]
  },
  {
   "cell_type": "markdown",
   "metadata": {},
   "source": [
    "#### longest_word\n",
    "Write a function \"longest_word\" that\n",
    "takes as input a list of strings\n",
    "and returns the longest string in the\n",
    "list.\n",
    "Hint: you will need to use two \"accumulators\""
   ]
  },
  {
   "cell_type": "markdown",
   "metadata": {},
   "source": [
    "#### factorial\n",
    "Write a function \"factorial\"\n",
    "\n",
    "It takes a number and returns the\n",
    "factorial of that number. \n",
    "\n",
    "The factorial of n is the product of all \n",
    "positive integers less than or equal to n\n",
    "\n",
    "HINT: use range()\n",
    "https://docs.python.org/3/library/stdtypes.html#typesseq-range\n",
    "\n",
    "range(n) produces an iterable of length n: \n",
    "[0,1,2,...,n-1]"
   ]
  },
  {
   "cell_type": "markdown",
   "metadata": {},
   "source": [
    "#### n_highest_number\n",
    "Write a function \"n_highest_number\"\n",
    "with two parameters: \n",
    "1. a list of numbers\n",
    "2. an integer\n",
    "\n",
    "\"n_highest_number\" should return the nth \n",
    "highest number in the list, where n is the \n",
    "second parameter of the function. \n",
    "\n",
    "Assume\n",
    "that the numbers will be unique (no duplicates).\n",
    "Also assume that n <= the number of elements \n",
    "in the list.\n",
    "\n",
    "NOTE: Only use the operations and functions\n",
    "we have learned so far! No cheating!\n",
    "\n",
    "HINT: Can you reuse anything from the previous\n",
    "exercise? That may or may not work, depending\n",
    "on how you implemented it. \n",
    "\n",
    "HINT HINT: use the function \"range\"!"
   ]
  }
 ],
 "metadata": {
  "kernelspec": {
   "display_name": "Python 3",
   "language": "python",
   "name": "python3"
  },
  "language_info": {
   "codemirror_mode": {
    "name": "ipython",
    "version": 3
   },
   "file_extension": ".py",
   "mimetype": "text/x-python",
   "name": "python",
   "nbconvert_exporter": "python",
   "pygments_lexer": "ipython3",
   "version": "3.8.5"
  }
 },
 "nbformat": 4,
 "nbformat_minor": 4
}
