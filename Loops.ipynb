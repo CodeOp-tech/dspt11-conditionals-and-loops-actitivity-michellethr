{
 "cells": [
  {
   "cell_type": "markdown",
   "metadata": {},
   "source": [
    "# Loops"
   ]
  },
  {
   "cell_type": "markdown",
   "metadata": {},
   "source": [
    "#### only_adults\n",
    "Write a function \"only_adults\" that\n",
    "takes as input a list of numbers and \n",
    "returns only those numbers >= 18"
   ]
  },
  {
   "cell_type": "code",
   "execution_count": 9,
   "metadata": {},
   "outputs": [],
   "source": [
    "def only_adults(numbers):\n",
    "    \n"
   ]
  },
  {
   "cell_type": "markdown",
   "metadata": {},
   "source": [
    "----"
   ]
  },
  {
   "cell_type": "markdown",
   "metadata": {},
   "source": [
    "#### get_only_adults\n",
    "Write a function \"get_only_adults\" that\n",
    "takes as input a list of numbers and \n",
    "returns only those numbers >= 18\n",
    "and removes any None values from the list"
   ]
  },
  {
   "cell_type": "code",
   "execution_count": 10,
   "metadata": {},
   "outputs": [],
   "source": [
    "def get_only_adults(numbers):\n",
    "    def is_adult(number):\n",
    "        return number is not None and number >= 18\n",
    "\n",
    "    return list(filter(is_adult, numbers))\n"
   ]
  },
  {
   "cell_type": "markdown",
   "metadata": {},
   "source": [
    "----"
   ]
  },
  {
   "cell_type": "markdown",
   "metadata": {},
   "source": [
    "#### are_all_adults\n",
    "Write a function \"are_all_adults\" that\n",
    "takes as input a list of numbers\n",
    "and returns True if they are all >= 18,\n",
    "and returns False otherwise\n",
    "Is this a map, filter, or reduce?"
   ]
  },
  {
   "cell_type": "code",
   "execution_count": 11,
   "metadata": {},
   "outputs": [],
   "source": [
    "def are_all_adults(numbers):\n",
    "    return all(number >= 18 for number in numbers)\n"
   ]
  },
  {
   "cell_type": "markdown",
   "metadata": {},
   "source": [
    "----"
   ]
  },
  {
   "cell_type": "markdown",
   "metadata": {},
   "source": [
    "#### count_nones\n",
    "\n",
    "Write a function \"count_nones\" that\n",
    "takes as input a list of any type of element\n",
    "and returns a count of how many of those\n",
    "elements are None types.\n",
    "\n",
    "Is this a map, filter, or reduce?"
   ]
  },
  {
   "cell_type": "code",
   "execution_count": 12,
   "metadata": {},
   "outputs": [
    {
     "name": "stdout",
     "output_type": "stream",
     "text": [
      "3\n"
     ]
    }
   ],
   "source": [
    "def count_nones(elements):\n",
    "    count = 0\n",
    "    for element in elements:\n",
    "        if element is None:\n",
    "            count += 1\n",
    "    return count\n",
    "\n",
    "elements = [1, None, 'hello', None, True, None]\n",
    "none_count = count_nones(elements)\n",
    "print(none_count)"
   ]
  },
  {
   "cell_type": "code",
   "execution_count": null,
   "metadata": {},
   "outputs": [],
   "source": [
    "# This is a reduce."
   ]
  },
  {
   "cell_type": "markdown",
   "metadata": {},
   "source": [
    "----"
   ]
  },
  {
   "cell_type": "markdown",
   "metadata": {},
   "source": [
    "#### longest_word\n",
    "Write a function \"longest_word\" that\n",
    "takes as input a list of strings\n",
    "and returns the longest string in the\n",
    "list.\n",
    "Hint: you will need to use two \"accumulators\""
   ]
  },
  {
   "cell_type": "code",
   "execution_count": 13,
   "metadata": {},
   "outputs": [],
   "source": [
    "def longest_word(words):\n",
    "    longest = ''\n",
    "    max_length = 0\n",
    "\n",
    "    for word in words:\n",
    "        if len(word) > max_length:\n",
    "            longest = word\n",
    "            max_length = len(word)\n",
    "\n",
    "    return longest\n"
   ]
  },
  {
   "cell_type": "markdown",
   "metadata": {},
   "source": [
    "#### factorial\n",
    "Write a function \"factorial\"\n",
    "\n",
    "It takes a number and returns the\n",
    "factorial of that number. \n",
    "\n",
    "The factorial of n is the product of all \n",
    "positive integers less than or equal to n\n",
    "\n",
    "HINT: use range()\n",
    "https://docs.python.org/3/library/stdtypes.html#typesseq-range\n",
    "\n",
    "range(n) produces an iterable of length n: \n",
    "[0,1,2,...,n-1]"
   ]
  },
  {
   "cell_type": "code",
   "execution_count": null,
   "metadata": {},
   "outputs": [],
   "source": [
    "def factorial(n):\n",
    "    result = 1\n",
    "    for i in range(1, n+1):\n",
    "        result *= i\n",
    "    return result\n"
   ]
  },
  {
   "cell_type": "markdown",
   "metadata": {},
   "source": [
    "#### n_highest_number\n",
    "Write a function \"n_highest_number\"\n",
    "with two parameters: \n",
    "1. a list of numbers\n",
    "2. an integer\n",
    "\n",
    "\"n_highest_number\" should return the nth \n",
    "highest number in the list, where n is the \n",
    "second parameter of the function. \n",
    "\n",
    "Assume\n",
    "that the numbers will be unique (no duplicates).\n",
    "Also assume that n <= the number of elements \n",
    "in the list.\n",
    "\n",
    "NOTE: Only use the operations and functions\n",
    "we have learned so far! No cheating!\n",
    "\n",
    "HINT: Can you reuse anything from the previous\n",
    "exercise? That may or may not work, depending\n",
    "on how you implemented it. \n",
    "\n",
    "HINT HINT: use the function \"range\"!"
   ]
  },
  {
   "cell_type": "code",
   "execution_count": 18,
   "metadata": {},
   "outputs": [
    {
     "data": {
      "text/plain": [
       "'6'"
      ]
     },
     "execution_count": 18,
     "metadata": {},
     "output_type": "execute_result"
    }
   ],
   "source": [
    "#how am i supposed to use range\n",
    "\n",
    "numbers = ['3','5','7','0','2','4','6']\n",
    "\n",
    "def n_highest_number(numbers, n):\n",
    "    numbers.sort(reverse = True)\n",
    "    return numbers[n-1]\n",
    "\n",
    "n_highest_number(numbers,2)"
   ]
  },
  {
   "cell_type": "code",
   "execution_count": 22,
   "metadata": {},
   "outputs": [
    {
     "data": {
      "text/plain": [
       "'6'"
      ]
     },
     "execution_count": 22,
     "metadata": {},
     "output_type": "execute_result"
    }
   ],
   "source": [
    "numbers = ['3','5','7','0','2','4','6']\n",
    "\n",
    "def n_highest_number(numbers, n):\n",
    "    for i in range(n):\n",
    "        highest_num = numbers[0]\n",
    "        for num in numbers:\n",
    "            if num > highest_num:\n",
    "                highest_num = num\n",
    "        numbers.remove(highest_num)\n",
    "    return highest_num\n",
    "\n",
    "n_highest_number(numbers,2)"
   ]
  }
 ],
 "metadata": {
  "kernelspec": {
   "display_name": "Python 3 (ipykernel)",
   "language": "python",
   "name": "python3"
  },
  "language_info": {
   "codemirror_mode": {
    "name": "ipython",
    "version": 3
   },
   "file_extension": ".py",
   "mimetype": "text/x-python",
   "name": "python",
   "nbconvert_exporter": "python",
   "pygments_lexer": "ipython3",
   "version": "3.10.9"
  }
 },
 "nbformat": 4,
 "nbformat_minor": 4
}
