{
 "cells": [
  {
   "cell_type": "markdown",
   "metadata": {},
   "source": [
    "# Conditionals"
   ]
  },
  {
   "cell_type": "markdown",
   "metadata": {},
   "source": [
    "#### should_work\n",
    "Create a function called \"should_work\"\n",
    "it should take one parameter: \"tired\"\n",
    "which is a boolean. \n",
    "if tired is True, should_work should return\n",
    "False. If tired is False, should_work should\n",
    "return True. (i.e. it returns the opposite)"
   ]
  },
  {
   "cell_type": "code",
   "execution_count": null,
   "metadata": {},
   "outputs": [],
   "source": [
    "def should_work(tired:bool) -> bool:\n",
    "    return not tired"
   ]
  },
  {
   "cell_type": "markdown",
   "metadata": {},
   "source": [
    "#### is_even\n",
    "Create a function called \"is_even\"\n",
    "that takes one parameter: \"num\"\n",
    "which is a number. \n",
    "It returns True if the number is even\n",
    "and False if the number is odd. \n",
    "It should raise an error if not \n",
    "given a numer"
   ]
  },
  {
   "cell_type": "code",
   "execution_count": 10,
   "metadata": {},
   "outputs": [],
   "source": [
    "def is_even (num: (int,float)) -> bool:\n",
    "    if isinstance(num,(int,float)):\n",
    "        return num % 2 == 0\n",
    "    \n",
    "    else:\n",
    "        raise Exception(\"No number given\")"
   ]
  },
  {
   "cell_type": "markdown",
   "metadata": {},
   "source": [
    "----"
   ]
  },
  {
   "cell_type": "markdown",
   "metadata": {},
   "source": [
    "#### car_at_light\n",
    "Create a function called \"car_at_light\"\n",
    "It should take one parameter: \"light\"\n",
    "which gives the color of a traffic light. \n",
    "If the color is \"red\", the function should return\n",
    "\"stop\". If the color is \"green\", the function \n",
    "should return \"go\". If the color is \"yellow\"\n",
    "the function should return \"wait\". If the color\n",
    "is anything else, the function should raise\n",
    "an exception. "
   ]
  },
  {
   "cell_type": "code",
   "execution_count": 21,
   "metadata": {},
   "outputs": [],
   "source": [
    "def car_at_light(light):\n",
    "    if light == \"green\":\n",
    "        return \"Go\"\n",
    "    if light == \"yellow\":\n",
    "        return \"Wait\"\n",
    "    if light == \"red\":\n",
    "        return \"Stop\"\n",
    "    raise Exception(\"Color not found\")"
   ]
  },
  {
   "cell_type": "markdown",
   "metadata": {},
   "source": [
    "----"
   ]
  },
  {
   "cell_type": "markdown",
   "metadata": {},
   "source": [
    "#### is_cold\n",
    "Create a function called \"is_cold\"\n",
    "which takes one parameter: \"temperature\"\n",
    "which is a number. \n",
    "If the temperature is above 15 degrees, \n",
    "it should return False, \n",
    "if it is equal or below 15 degrees,\n",
    "it should return True, \n",
    "if the temperature is not a number, \n",
    "it should raise an exception that \n",
    "says \"temperature must be a number\"\n",
    "(hint: you need to raise an exception\n",
    "with EXACTLY that message)"
   ]
  },
  {
   "cell_type": "code",
   "execution_count": 22,
   "metadata": {},
   "outputs": [],
   "source": [
    "def is_cold(temperature):\n",
    "    if temperature <= 15:\n",
    "        return True\n",
    "    if temperature > 15:\n",
    "        return False\n",
    "    raise Exception(\"Temperature must be a number\")"
   ]
  },
  {
   "cell_type": "markdown",
   "metadata": {},
   "source": [
    "----"
   ]
  },
  {
   "cell_type": "markdown",
   "metadata": {},
   "source": [
    "#### wear_sweater\n",
    "Create a function called \"wear_sweater\"\n",
    "which takes two parameter: \"temperature\", \"friolera\"\n",
    "The first is a number, the second a boolean \n",
    "(which might sometimes be a None).\n",
    "If the temperature is above 15, \n",
    "it should return False, \n",
    "if it is 15 or below,\n",
    "it should return True if friolera\n",
    "is True, False if friolera is False,\n",
    "and True if friolera is None.\n",
    "(In other words, if we don't know whether \n",
    "she is a friolera or not, we should act \n",
    "cautiously and tell her to wear a sweater)\n",
    "(hint: you should use is_cold from above!)"
   ]
  },
  {
   "cell_type": "markdown",
   "metadata": {},
   "source": [
    "*The following set of cases are what we want to conditionalize*\n",
    "\n",
    "- Temperature>15, doesn't matter what friolera is -> don't wear sweater, it's hot\n",
    "- Temperature<15,friolera=True -> wear sweater\n",
    "- Temperature<15,friolera=False -> don't need to wear sweater\n",
    "- Temperature<15,friolera=None -> let's be safe and wear sweater\n",
    "\n"
   ]
  },
  {
   "cell_type": "code",
   "execution_count": 34,
   "metadata": {},
   "outputs": [],
   "source": [
    "def wear_sweater(temperature, friolera):\n",
    "\n",
    "    if not isinstance(temperature, (int, float)):\n",
    "        raise TypeError(\"temperature must be a number\")    \n",
    "    if temperature > 15:\n",
    "        return \"don't wear sweater, it's hot\"                 \n",
    "    if friolera:\n",
    "        return \"wear sweater\" \n",
    "    if friolera is False:\n",
    "        return \"don't need to wear sweater\"\n",
    "    return\" let's be safe and wear sweater\""
   ]
  },
  {
   "cell_type": "markdown",
   "metadata": {},
   "source": [
    "----"
   ]
  },
  {
   "cell_type": "markdown",
   "metadata": {},
   "source": [
    "#### equality\n",
    "Create a function called \"equality\"\n",
    "which takes three parameters: \"x\", \"y\", and \"z\"\n",
    "it should return the following: \n",
    "if x, y, and z are all equal --> \"all are equal\"\n",
    "if only x and y are equal --> \"x and y are equal\"\n",
    "if only z and x are equal --> \"x and z are equal\"\n",
    "if only y and z are equal --> \"y and z are equal\"\n",
    "if nothing is equal --> \"nothing is equal\""
   ]
  },
  {
   "cell_type": "markdown",
   "metadata": {},
   "source": [
    "----"
   ]
  },
  {
   "cell_type": "code",
   "execution_count": 37,
   "metadata": {},
   "outputs": [],
   "source": [
    "def equality(x,y,z):\n",
    "\n",
    "    if x == y == 2: return(\"all are equal\") # return\n",
    "\n",
    "    if x == y:\n",
    "        return(\"x and y are equal\")\n",
    "\n",
    "    if z == x:\n",
    "        return(\"x and z are equal\")\n",
    "\n",
    "    if y == 2:\n",
    "        return(\"y and z are equal\")\n",
    "        return(\"nothing is equal\")"
   ]
  },
  {
   "cell_type": "markdown",
   "metadata": {},
   "source": [
    "#### driver_seat\n",
    "Write a function for the following situation:\n",
    "Sofia can drive manual and automatic cars.\n",
    "Diego only knows how to drive automatic.\n",
    "Sofia prefers to drive long distances (> 10 km).\n",
    "Diego prefers to drive short distances.\n",
    "\n",
    "The function should be called \"driver_seat\"\n",
    "and should take two parameters: \"distance\", \"is_manual\".\n",
    "The first should be a number, the second should be a \n",
    "boolean. The function should return a string, which is\n",
    "the name of the person who should drive, \"Diego\" or \"Sofia\"."
   ]
  },
  {
   "cell_type": "markdown",
   "metadata": {},
   "source": [
    "*The following set of cases are what we want to conditionalize*\n",
    "\n",
    "- if is_manual is True -> Sofia\n",
    "- if is_manual is False, distance > 10 -> Sofia\n",
    "- if is_manual is False, distance <= 10 -> Diego"
   ]
  },
  {
   "cell_type": "code",
   "execution_count": 41,
   "metadata": {},
   "outputs": [],
   "source": [
    "def driver_seat(distance, is_manual):\n",
    "\n",
    "    if is_manual: \n",
    "        return(\"Sofia should drive\")\n",
    "\n",
    "    if distance>18:\n",
    "        return(\"Sofia should drive\") \n",
    "    \n",
    "    return(\"Diego can drive\")"
   ]
  }
 ],
 "metadata": {
  "kernelspec": {
   "display_name": "Python 3 (ipykernel)",
   "language": "python",
   "name": "python3"
  },
  "language_info": {
   "codemirror_mode": {
    "name": "ipython",
    "version": 3
   },
   "file_extension": ".py",
   "mimetype": "text/x-python",
   "name": "python",
   "nbconvert_exporter": "python",
   "pygments_lexer": "ipython3",
   "version": "3.10.9"
  }
 },
 "nbformat": 4,
 "nbformat_minor": 4
}
