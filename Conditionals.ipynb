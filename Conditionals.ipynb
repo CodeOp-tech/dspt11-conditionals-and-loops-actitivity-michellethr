{
 "cells": [
  {
   "cell_type": "markdown",
   "metadata": {},
   "source": [
    "# Conditionals"
   ]
  },
  {
   "cell_type": "markdown",
   "metadata": {},
   "source": [
    "#### should_work\n",
    "Create a function called \"should_work\"\n",
    "it should take one parameter: \"tired\"\n",
    "which is a boolean. \n",
    "if tired is True, should_work should return\n",
    "False. If tired is False, should_work should\n",
    "return True. (i.e. it returns the opposite)"
   ]
  },
  {
   "cell_type": "markdown",
   "metadata": {},
   "source": [
    "#### is_even\n",
    "Create a function called \"is_even\"\n",
    "that takes one parameter: \"num\"\n",
    "which is a number. \n",
    "It returns True if the number is even\n",
    "and False if the number is odd. \n",
    "It should raise an error if not \n",
    "given a numer"
   ]
  },
  {
   "cell_type": "markdown",
   "metadata": {},
   "source": [
    "----"
   ]
  },
  {
   "cell_type": "markdown",
   "metadata": {},
   "source": [
    "#### car_at_light\n",
    "Create a function called \"car_at_light\"\n",
    "It should take one parameter: \"light\"\n",
    "which gives the color of a traffic light. \n",
    "If the color is \"red\", the function should return\n",
    "\"stop\". If the color is \"green\", the function \n",
    "should return \"go\". If the color is \"yellow\"\n",
    "the function should return \"wait\". If the color\n",
    "is anything else, the function should raise\n",
    "an exception. "
   ]
  },
  {
   "cell_type": "markdown",
   "metadata": {},
   "source": [
    "----"
   ]
  },
  {
   "cell_type": "markdown",
   "metadata": {},
   "source": [
    "#### is_cold\n",
    "Create a function called \"is_cold\"\n",
    "which takes one parameter: \"temperature\"\n",
    "which is a number. \n",
    "If the temperature is above 15 degrees, \n",
    "it should return False, \n",
    "if it is equal or below 15 degrees,\n",
    "it should return True, \n",
    "if the temperature is not a number, \n",
    "it should raise an exception that \n",
    "says \"temperature must be a number\"\n",
    "(hint: you need to raise an exception\n",
    "with EXACTLY that message)"
   ]
  },
  {
   "cell_type": "markdown",
   "metadata": {},
   "source": [
    "----"
   ]
  },
  {
   "cell_type": "markdown",
   "metadata": {},
   "source": [
    "#### wear_sweater\n",
    "Create a function called \"wear_sweater\"\n",
    "which takes two parameter: \"temperature\", \"friolera\"\n",
    "The first is a number, the second a boolean \n",
    "(which might sometimes be a None).\n",
    "If the temperature is above 15, \n",
    "it should return False, \n",
    "if it is 15 or below,\n",
    "it should return True if friolera\n",
    "is True, False if friolera is False,\n",
    "and True if friolera is None.\n",
    "(In other words, if we don't know whether \n",
    "she is a friolera or not, we should act \n",
    "cautiously and tell her to wear a sweater)\n",
    "(hint: you should use is_cold from above!)"
   ]
  },
  {
   "cell_type": "markdown",
   "metadata": {},
   "source": [
    "*The following set of cases are what we want to conditionalize*\n",
    "\n",
    "- Temperature>15, doesn't matter what friolera is -> don't wear sweater, it's hot\n",
    "- Temperature<15,friolera=True -> wear sweater\n",
    "- Temperature<15,friolera=False -> don't need to wear sweater\n",
    "- Temperature<15,friolera=None -> let's be safe and wear sweater\n",
    "\n"
   ]
  },
  {
   "cell_type": "markdown",
   "metadata": {},
   "source": [
    "----"
   ]
  },
  {
   "cell_type": "markdown",
   "metadata": {},
   "source": [
    "#### equality\n",
    "Create a function called \"equality\"\n",
    "which takes three parameters: \"x\", \"y\", and \"z\"\n",
    "it should return the following: \n",
    "if x, y, and z are all equal --> \"all are equal\"\n",
    "if only x and y are equal --> \"x and y are equal\"\n",
    "if only z and x are equal --> \"x and z are equal\"\n",
    "if only y and z are equal --> \"y and z are equal\"\n",
    "if nothing is equal --> \"nothing is equal\""
   ]
  },
  {
   "cell_type": "markdown",
   "metadata": {},
   "source": [
    "----"
   ]
  },
  {
   "cell_type": "markdown",
   "metadata": {},
   "source": [
    "#### driver_seat\n",
    "Write a function for the following situation:\n",
    "Sofia can drive manual and automatic cars.\n",
    "Diego only knows how to drive automatic.\n",
    "Sofia prefers to drive long distances (> 10 km).\n",
    "Diego prefers to drive short distances.\n",
    "\n",
    "The function should be called \"driver_seat\"\n",
    "and should take two parameters: \"distance\", \"is_manual\".\n",
    "The first should be a number, the second should be a \n",
    "boolean. The function should return a string, which is\n",
    "the name of the person who should drive, \"Diego\" or \"Sofia\"."
   ]
  },
  {
   "cell_type": "markdown",
   "metadata": {},
   "source": [
    "*The following set of cases are what we want to conditionalize*\n",
    "\n",
    "- if is_manual is True -> Sofia\n",
    "- if is_manual is False, distance > 10 -> Sofia\n",
    "- if is_manual is False, distance <= 10 -> Diego"
   ]
  }
 ],
 "metadata": {
  "kernelspec": {
   "display_name": "Python 3",
   "language": "python",
   "name": "python3"
  },
  "language_info": {
   "codemirror_mode": {
    "name": "ipython",
    "version": 3
   },
   "file_extension": ".py",
   "mimetype": "text/x-python",
   "name": "python",
   "nbconvert_exporter": "python",
   "pygments_lexer": "ipython3",
   "version": "3.8.5"
  }
 },
 "nbformat": 4,
 "nbformat_minor": 4
}
